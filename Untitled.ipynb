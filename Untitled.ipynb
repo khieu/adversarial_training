{
 "cells": [
  {
   "cell_type": "code",
   "execution_count": 14,
   "metadata": {},
   "outputs": [],
   "source": [
    "from torchvision import datasets, transforms\n",
    "from torch.utils.data import DataLoader\n",
    "import torch\n",
    "import torch.nn as nn\n",
    "import torch.optim as optim\n",
    "import matplotlib.pyplot as plt"
   ]
  },
  {
   "cell_type": "code",
   "execution_count": 9,
   "metadata": {},
   "outputs": [
    {
     "name": "stdout",
     "output_type": "stream",
     "text": [
      "torch.Size([60000])\n"
     ]
    },
    {
     "name": "stderr",
     "output_type": "stream",
     "text": [
      "/home/grad3/hle/.local/lib/python3.5/site-packages/torchvision/datasets/mnist.py:48: UserWarning: test_labels has been renamed targets\n",
      "  warnings.warn(\"test_labels has been renamed targets\")\n"
     ]
    }
   ],
   "source": [
    "\n",
    "mnist_train = datasets.MNIST(\"./../../sargan/MNIST_data\", train=True, download=True, transform=transforms.ToTensor())\n",
    "mnist_test = datasets.MNIST(\"./../../sargan/MNIST_data\", train=False, download=True, transform=transforms.ToTensor())\n",
    "\n",
    "train_idx = mnist_train.targets <= 1\n",
    "print(train_idx.shape)\n",
    "mnist_train.data = mnist_train.data[train_idx]\n",
    "mnist_train.targets = mnist_train.targets[train_idx]\n",
    "\n",
    "test_idx = mnist_test.test_labels <= 1\n",
    "mnist_test.data = mnist_test.data[test_idx]\n",
    "mnist_test.targets = mnist_test.targets[test_idx]\n",
    "\n",
    "train_loader = DataLoader(mnist_train, batch_size = 100, shuffle=True)\n",
    "test_loader = DataLoader(mnist_test, batch_size = 100, shuffle=False)"
   ]
  },
  {
   "cell_type": "code",
   "execution_count": 11,
   "metadata": {},
   "outputs": [],
   "source": [
    "# do a single pass over the data\n",
    "def epoch(loader, model, opt=None):\n",
    "    total_loss, total_err = 0.,0.\n",
    "    for X,y in loader:\n",
    "        yp = model(X.view(X.shape[0], -1))[:,0]\n",
    "        loss = nn.BCEWithLogitsLoss()(yp, y.float())\n",
    "        if opt:\n",
    "            opt.zero_grad()\n",
    "            loss.backward()\n",
    "            opt.step()\n",
    "        \n",
    "        total_err += ((yp > 0) * (y==0) + (yp < 0) * (y==1)).sum().item()\n",
    "        total_loss += loss.item() * X.shape[0]\n",
    "    return total_err / len(loader.dataset), total_loss / len(loader.dataset)\n"
   ]
  },
  {
   "cell_type": "code",
   "execution_count": 12,
   "metadata": {},
   "outputs": [
    {
     "name": "stdout",
     "output_type": "stream",
     "text": [
      "Train Err\tTrain Loss\tTest Err\tTest Loss\n",
      "0.010107\t0.017219\t0.000473\t0.003031\n",
      "0.001500\t0.005431\t0.000473\t0.002521\n",
      "0.001342\t0.004414\t0.000473\t0.002296\n",
      "0.001263\t0.003840\t0.000946\t0.002264\n",
      "0.001184\t0.003511\t0.000473\t0.002174\n",
      "0.000947\t0.003213\t0.000946\t0.002098\n",
      "0.000790\t0.002981\t0.000473\t0.002053\n",
      "0.000711\t0.002761\t0.000946\t0.002007\n",
      "0.000632\t0.002613\t0.000473\t0.002003\n",
      "0.000711\t0.002456\t0.000473\t0.002065\n"
     ]
    }
   ],
   "source": [
    "model = nn.Linear(784, 1)\n",
    "opt = optim.SGD(model.parameters(), lr=1.)\n",
    "print(\"Train Err\", \"Train Loss\", \"Test Err\", \"Test Loss\", sep=\"\\t\")\n",
    "for i in range(10):\n",
    "    train_err, train_loss = epoch(train_loader, model, opt)\n",
    "    test_err, test_loss = epoch(test_loader, model)\n",
    "    print(*(\"{:.6f}\".format(i) for i in (train_err, train_loss, test_err, test_loss)), sep=\"\\t\")\n"
   ]
  },
  {
   "cell_type": "code",
   "execution_count": 15,
   "metadata": {},
   "outputs": [
    {
     "name": "stderr",
     "output_type": "stream",
     "text": [
      "/home/grad3/hle/.local/lib/python3.5/site-packages/torchvision/datasets/mnist.py:58: UserWarning: test_data has been renamed data\n",
      "  warnings.warn(\"test_data has been renamed data\")\n",
      "/home/grad3/hle/.local/lib/python3.5/site-packages/torchvision/datasets/mnist.py:48: UserWarning: test_labels has been renamed targets\n",
      "  warnings.warn(\"test_labels has been renamed targets\")\n"
     ]
    },
    {
     "data": {
      "text/plain": [
       "<matplotlib.text.Text at 0x7f25c80d9ba8>"
      ]
     },
     "execution_count": 15,
     "metadata": {},
     "output_type": "execute_result"
    },
    {
     "data": {
      "image/png": "[encoded data removed]",
      "text/plain": [
       "<matplotlib.figure.Figure at 0x7f25c8111320>"
      ]
     },
     "metadata": {
      "needs_background": "light"
     },
     "output_type": "display_data"
    }
   ],
   "source": [
    "X_test = (test_loader.dataset.test_data.float()/255).view(len(test_loader.dataset),-1)\n",
    "y_test = test_loader.dataset.test_labels\n",
    "yp = model(X_test)[:,0]\n",
    "idx = (yp > 0) * (y_test == 0) + (yp < 0) * (y_test == 1)\n",
    "plt.imshow(1-X_test[idx][0].view(28,28).numpy(), cmap=\"gray\")\n",
    "plt.title(\"True Label: {}\".format(y_test[idx].item()))"
   ]
  },
  {
   "cell_type": "code",
   "execution_count": 16,
   "metadata": {},
   "outputs": [
    {
     "data": {
      "text/plain": [
       "<matplotlib.image.AxesImage at 0x7f25a07ecd30>"
      ]
     },
     "execution_count": 16,
     "metadata": {},
     "output_type": "execute_result"
    },
    {
     "data": {
      "image/png": "[encoded data removed]",
      "text/plain": [
       "<matplotlib.figure.Figure at 0x7f25c8058400>"
      ]
     },
     "metadata": {
      "needs_background": "light"
     },
     "output_type": "display_data"
    }
   ],
   "source": [
    "epsilon = 0.2\n",
    "delta = epsilon * model.weight.detach().sign().view(28,28)\n",
    "plt.imshow(1-delta.numpy(), cmap=\"gray\")"
   ]
  },
  {
   "cell_type": "code",
   "execution_count": 17,
   "metadata": {},
   "outputs": [
    {
     "name": "stdout",
     "output_type": "stream",
     "text": [
      "(0.8505910165484634, 3.1302892536136278)\n"
     ]
    }
   ],
   "source": [
    "def epoch_adv(loader, model, delta):\n",
    "    total_loss, total_err = 0.,0.\n",
    "    for X,y in loader:\n",
    "        yp = model((X-(2*y.float()[:,None,None,None]-1)*delta).view(X.shape[0], -1))[:,0]\n",
    "        loss = nn.BCEWithLogitsLoss()(yp, y.float())\n",
    "        total_err += ((yp > 0) * (y==0) + (yp < 0) * (y==1)).sum().item()\n",
    "        total_loss += loss.item() * X.shape[0]\n",
    "    return total_err / len(loader.dataset), total_loss / len(loader.dataset)\n",
    "print(epoch_adv(test_loader, model, delta[None,None,:,:]))"
   ]
  },
  {
   "cell_type": "code",
   "execution_count": 18,
   "metadata": {},
   "outputs": [
    {
     "data": {
      "image/png": "[encoded data removed]",
      "text/plain": [
       "<matplotlib.figure.Figure at 0x7f25c8129438>"
      ]
     },
     "metadata": {
      "needs_background": "light"
     },
     "output_type": "display_data"
    }
   ],
   "source": [
    "f,ax = plt.subplots(5,5, sharey=True)\n",
    "for i in range(25):\n",
    "    ax[i%5][i//5].imshow(1-(X_test[i].view(28,28) - (2*y_test[i]-1)*delta).numpy(), cmap=\"gray\")\n",
    "    ax"
   ]
  },
  {
   "cell_type": "code",
   "execution_count": 19,
   "metadata": {},
   "outputs": [],
   "source": [
    "# do a single pass over the data\n",
    "def epoch_robust(loader, model, epsilon, opt=None):\n",
    "    total_loss, total_err = 0.,0.\n",
    "    for X,y in loader:\n",
    "        yp = model(X.view(X.shape[0], -1))[:,0] - epsilon*(2*y.float()-1)*model.weight.norm(1)\n",
    "        loss = nn.BCEWithLogitsLoss()(yp, y.float())\n",
    "        if opt:\n",
    "            opt.zero_grad()\n",
    "            loss.backward()\n",
    "            opt.step()\n",
    "        \n",
    "        total_err += ((yp > 0) * (y==0) + (yp < 0) * (y==1)).sum().item()\n",
    "        total_loss += loss.item() * X.shape[0]\n",
    "    return total_err / len(loader.dataset), total_loss / len(loader.dataset)"
   ]
  },
  {
   "cell_type": "code",
   "execution_count": 20,
   "metadata": {},
   "outputs": [
    {
     "name": "stdout",
     "output_type": "stream",
     "text": [
      "Rob. Train Err\tRob. Train Loss\tRob. Test Err\tRob. Test Loss\n",
      "0.150967\t0.380696\t0.060520\t0.198987\n",
      "0.073747\t0.223836\t0.052009\t0.174674\n",
      "0.062219\t0.197901\t0.042553\t0.153516\n",
      "0.058508\t0.183964\t0.041135\t0.144699\n",
      "0.053296\t0.174978\t0.042080\t0.147447\n",
      "0.050691\t0.168381\t0.033570\t0.125849\n",
      "0.047690\t0.163084\t0.036407\t0.135416\n",
      "0.045559\t0.158481\t0.032624\t0.122908\n",
      "0.044611\t0.154904\t0.028842\t0.119672\n",
      "0.043111\t0.151910\t0.034043\t0.123357\n",
      "0.042558\t0.149374\t0.027896\t0.117660\n",
      "0.040663\t0.147202\t0.027423\t0.113077\n",
      "0.039163\t0.145273\t0.027896\t0.112204\n",
      "0.038768\t0.143521\t0.027423\t0.109307\n",
      "0.037742\t0.141720\t0.026950\t0.107613\n",
      "0.036873\t0.140357\t0.026478\t0.105131\n",
      "0.036636\t0.139168\t0.025059\t0.102253\n",
      "0.035847\t0.138185\t0.025532\t0.105011\n",
      "0.034662\t0.137073\t0.025059\t0.109245\n",
      "0.034899\t0.136226\t0.025059\t0.105104\n"
     ]
    }
   ],
   "source": [
    "model = nn.Linear(784, 1)\n",
    "opt = optim.SGD(model.parameters(), lr=1e-1)\n",
    "epsilon = 0.2\n",
    "print(\"Rob. Train Err\", \"Rob. Train Loss\", \"Rob. Test Err\", \"Rob. Test Loss\", sep=\"\\t\")\n",
    "for i in range(20):\n",
    "    train_err, train_loss = epoch_robust(train_loader, model, epsilon, opt)\n",
    "    test_err, test_loss = epoch_robust(test_loader, model, epsilon)\n",
    "    print(*(\"{:.6f}\".format(i) for i in (train_err, train_loss, test_err, test_loss)), sep=\"\\t\")\n"
   ]
  },
  {
   "cell_type": "code",
   "execution_count": 21,
   "metadata": {},
   "outputs": [
    {
     "name": "stdout",
     "output_type": "stream",
     "text": [
      "Train Err\tTrain Loss\tTest Err\tTest Loss\n",
      "0.006001\t0.015342\t0.003310\t0.008233\n"
     ]
    }
   ],
   "source": [
    "train_err, train_loss = epoch(train_loader, model)\n",
    "test_err, test_loss = epoch(test_loader, model)\n",
    "print(\"Train Err\", \"Train Loss\", \"Test Err\", \"Test Loss\", sep=\"\\t\")\n",
    "print(*(\"{:.6f}\".format(i) for i in (train_err, train_loss, test_err, test_loss)), sep=\"\\t\")\n"
   ]
  },
  {
   "cell_type": "code",
   "execution_count": 22,
   "metadata": {},
   "outputs": [
    {
     "data": {
      "text/plain": [
       "<matplotlib.image.AxesImage at 0x7f258c652470>"
      ]
     },
     "execution_count": 22,
     "metadata": {},
     "output_type": "execute_result"
    },
    {
     "data": {
      "image/png": "[encoded data removed]",
      "text/plain": [
       "<matplotlib.figure.Figure at 0x7f25c80c5e80>"
      ]
     },
     "metadata": {
      "needs_background": "light"
     },
     "output_type": "display_data"
    }
   ],
   "source": [
    "delta = epsilon * model.weight.detach().sign().view(28,28)\n",
    "plt.imshow(1-delta.numpy(), cmap=\"gray\")"
   ]
  },
  {
   "cell_type": "code",
   "execution_count": null,
   "metadata": {},
   "outputs": [],
   "source": []
  }
 ],
 "metadata": {
  "kernelspec": {
   "display_name": "Python [conda env:anaconda3]",
   "language": "python",
   "name": "conda-env-anaconda3-py"
  },
  "language_info": {
   "codemirror_mode": {
    "name": "ipython",
    "version": 3
   },
   "file_extension": ".py",
   "mimetype": "text/x-python",
   "name": "python",
   "nbconvert_exporter": "python",
   "pygments_lexer": "ipython3",
   "version": "3.5.6"
  }
 },
 "nbformat": 4,
 "nbformat_minor": 2
}
